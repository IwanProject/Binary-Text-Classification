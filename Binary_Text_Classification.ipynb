{
  "nbformat": 4,
  "nbformat_minor": 0,
  "metadata": {
    "colab": {
      "name": "Binary Text Classification.ipynb",
      "provenance": [],
      "collapsed_sections": [],
      "authorship_tag": "ABX9TyNbuYyh65ysvfiiYqFx4XHS",
      "include_colab_link": true
    },
    "kernelspec": {
      "name": "python3",
      "display_name": "Python 3"
    },
    "language_info": {
      "name": "python"
    }
  },
  "cells": [
    {
      "cell_type": "markdown",
      "metadata": {
        "id": "view-in-github",
        "colab_type": "text"
      },
      "source": [
        "<a href=\"https://colab.research.google.com/github/iwanradjasa/Binary-Text-Classification/blob/main/Binary_Text_Classification.ipynb\" target=\"_parent\"><img src=\"https://colab.research.google.com/assets/colab-badge.svg\" alt=\"Open In Colab\"/></a>"
      ]
    },
    {
      "cell_type": "code",
      "metadata": {
        "id": "qJdV_QFQCW5L"
      },
      "source": [
        "import pandas as pd\n",
        "df = pd.read_csv('yelp_labelled.txt', names=['sentence', 'label'], sep='\\t')"
      ],
      "execution_count": null,
      "outputs": []
    },
    {
      "cell_type": "code",
      "metadata": {
        "colab": {
          "base_uri": "https://localhost:8080/",
          "height": 204
        },
        "id": "Z40voTCfDDqk",
        "outputId": "803912bd-ded1-44ef-c372-28ca8e1bc867"
      },
      "source": [
        "df.tail()"
      ],
      "execution_count": null,
      "outputs": [
        {
          "output_type": "execute_result",
          "data": {
            "text/html": [
              "<div>\n",
              "<style scoped>\n",
              "    .dataframe tbody tr th:only-of-type {\n",
              "        vertical-align: middle;\n",
              "    }\n",
              "\n",
              "    .dataframe tbody tr th {\n",
              "        vertical-align: top;\n",
              "    }\n",
              "\n",
              "    .dataframe thead th {\n",
              "        text-align: right;\n",
              "    }\n",
              "</style>\n",
              "<table border=\"1\" class=\"dataframe\">\n",
              "  <thead>\n",
              "    <tr style=\"text-align: right;\">\n",
              "      <th></th>\n",
              "      <th>sentence</th>\n",
              "      <th>label</th>\n",
              "    </tr>\n",
              "  </thead>\n",
              "  <tbody>\n",
              "    <tr>\n",
              "      <th>995</th>\n",
              "      <td>I think food should have flavor and texture an...</td>\n",
              "      <td>0</td>\n",
              "    </tr>\n",
              "    <tr>\n",
              "      <th>996</th>\n",
              "      <td>Appetite instantly gone.</td>\n",
              "      <td>0</td>\n",
              "    </tr>\n",
              "    <tr>\n",
              "      <th>997</th>\n",
              "      <td>Overall I was not impressed and would not go b...</td>\n",
              "      <td>0</td>\n",
              "    </tr>\n",
              "    <tr>\n",
              "      <th>998</th>\n",
              "      <td>The whole experience was underwhelming, and I ...</td>\n",
              "      <td>0</td>\n",
              "    </tr>\n",
              "    <tr>\n",
              "      <th>999</th>\n",
              "      <td>Then, as if I hadn't wasted enough of my life ...</td>\n",
              "      <td>0</td>\n",
              "    </tr>\n",
              "  </tbody>\n",
              "</table>\n",
              "</div>"
            ],
            "text/plain": [
              "                                              sentence  label\n",
              "995  I think food should have flavor and texture an...      0\n",
              "996                           Appetite instantly gone.      0\n",
              "997  Overall I was not impressed and would not go b...      0\n",
              "998  The whole experience was underwhelming, and I ...      0\n",
              "999  Then, as if I hadn't wasted enough of my life ...      0"
            ]
          },
          "metadata": {
            "tags": []
          },
          "execution_count": 2
        }
      ]
    },
    {
      "cell_type": "code",
      "metadata": {
        "id": "tYqv9LJ8DKqF"
      },
      "source": [
        "from sklearn.model_selection import train_test_split\n",
        "kalimat = df['sentence'].values\n",
        "y = df['label'].values\n",
        "kalimat_latih, kalimat_test, y_latih, y_test = train_test_split(kalimat, y, test_size=0.2)"
      ],
      "execution_count": null,
      "outputs": []
    },
    {
      "cell_type": "code",
      "metadata": {
        "id": "929WBzXXDUks"
      },
      "source": [
        "from tensorflow.keras.preprocessing.text import Tokenizer\n",
        "from tensorflow.keras.preprocessing.sequence import pad_sequences\n",
        " \n",
        "tokenizer = Tokenizer(num_words=250, oov_token='x')\n",
        "tokenizer.fit_on_texts(kalimat_latih) \n",
        "tokenizer.fit_on_texts(kalimat_test)\n",
        " \n",
        "sekuens_latih = tokenizer.texts_to_sequences(kalimat_latih)\n",
        "sekuens_test = tokenizer.texts_to_sequences(kalimat_test)\n",
        " \n",
        "padded_latih = pad_sequences(sekuens_latih) \n",
        "padded_test = pad_sequences(sekuens_test)"
      ],
      "execution_count": null,
      "outputs": []
    },
    {
      "cell_type": "code",
      "metadata": {
        "id": "cySxGKfSDgc3"
      },
      "source": [
        "import tensorflow as tf\n",
        "model = tf.keras.Sequential([\n",
        "    tf.keras.layers.Embedding(250, 16, input_length=20),\n",
        "    tf.keras.layers.GlobalAveragePooling1D(),\n",
        "    tf.keras.layers.Dense(24, activation='relu'),\n",
        "    tf.keras.layers.Dense(1, activation='sigmoid')\n",
        "])\n",
        "model.compile(loss='binary_crossentropy',optimizer='adam',metrics=['accuracy'])"
      ],
      "execution_count": null,
      "outputs": []
    },
    {
      "cell_type": "code",
      "metadata": {
        "colab": {
          "base_uri": "https://localhost:8080/"
        },
        "id": "VHUUU7wjDvXt",
        "outputId": "e1fb1c3b-fbb7-4098-91df-3ce99ae6d3f0"
      },
      "source": [
        "num_epochs = 30\n",
        "history = model.fit(padded_latih, y_latih, epochs=num_epochs, \n",
        "                    validation_data=(padded_test, y_test), verbose=2)"
      ],
      "execution_count": null,
      "outputs": [
        {
          "output_type": "stream",
          "text": [
            "Epoch 1/30\n",
            "WARNING:tensorflow:Model was constructed with shape (None, 20) for input KerasTensor(type_spec=TensorSpec(shape=(None, 20), dtype=tf.float32, name='embedding_input'), name='embedding_input', description=\"created by layer 'embedding_input'\"), but it was called on an input with incompatible shape (32, 31).\n",
            "WARNING:tensorflow:Model was constructed with shape (None, 20) for input KerasTensor(type_spec=TensorSpec(shape=(None, 20), dtype=tf.float32, name='embedding_input'), name='embedding_input', description=\"created by layer 'embedding_input'\"), but it was called on an input with incompatible shape (32, 31).\n",
            "WARNING:tensorflow:Model was constructed with shape (None, 20) for input KerasTensor(type_spec=TensorSpec(shape=(None, 20), dtype=tf.float32, name='embedding_input'), name='embedding_input', description=\"created by layer 'embedding_input'\"), but it was called on an input with incompatible shape (None, 32).\n",
            "25/25 - 1s - loss: 0.6936 - accuracy: 0.5000 - val_loss: 0.6919 - val_accuracy: 0.5150\n",
            "Epoch 2/30\n",
            "25/25 - 0s - loss: 0.6918 - accuracy: 0.5475 - val_loss: 0.6903 - val_accuracy: 0.5550\n",
            "Epoch 3/30\n",
            "25/25 - 0s - loss: 0.6893 - accuracy: 0.5813 - val_loss: 0.6877 - val_accuracy: 0.5750\n",
            "Epoch 4/30\n",
            "25/25 - 0s - loss: 0.6857 - accuracy: 0.6162 - val_loss: 0.6831 - val_accuracy: 0.5850\n",
            "Epoch 5/30\n",
            "25/25 - 0s - loss: 0.6794 - accuracy: 0.6363 - val_loss: 0.6766 - val_accuracy: 0.6050\n",
            "Epoch 6/30\n",
            "25/25 - 0s - loss: 0.6704 - accuracy: 0.6625 - val_loss: 0.6671 - val_accuracy: 0.6500\n",
            "Epoch 7/30\n",
            "25/25 - 0s - loss: 0.6576 - accuracy: 0.7225 - val_loss: 0.6551 - val_accuracy: 0.6350\n",
            "Epoch 8/30\n",
            "25/25 - 0s - loss: 0.6403 - accuracy: 0.7237 - val_loss: 0.6387 - val_accuracy: 0.7200\n",
            "Epoch 9/30\n",
            "25/25 - 0s - loss: 0.6182 - accuracy: 0.7675 - val_loss: 0.6193 - val_accuracy: 0.7150\n",
            "Epoch 10/30\n",
            "25/25 - 0s - loss: 0.5924 - accuracy: 0.7588 - val_loss: 0.5980 - val_accuracy: 0.7500\n",
            "Epoch 11/30\n",
            "25/25 - 0s - loss: 0.5625 - accuracy: 0.7937 - val_loss: 0.5768 - val_accuracy: 0.7450\n",
            "Epoch 12/30\n",
            "25/25 - 0s - loss: 0.5314 - accuracy: 0.8150 - val_loss: 0.5554 - val_accuracy: 0.7750\n",
            "Epoch 13/30\n",
            "25/25 - 0s - loss: 0.5003 - accuracy: 0.8275 - val_loss: 0.5362 - val_accuracy: 0.7750\n",
            "Epoch 14/30\n",
            "25/25 - 0s - loss: 0.4718 - accuracy: 0.8375 - val_loss: 0.5200 - val_accuracy: 0.7750\n",
            "Epoch 15/30\n",
            "25/25 - 0s - loss: 0.4464 - accuracy: 0.8400 - val_loss: 0.5105 - val_accuracy: 0.7650\n",
            "Epoch 16/30\n",
            "25/25 - 0s - loss: 0.4249 - accuracy: 0.8375 - val_loss: 0.4952 - val_accuracy: 0.7750\n",
            "Epoch 17/30\n",
            "25/25 - 0s - loss: 0.4031 - accuracy: 0.8438 - val_loss: 0.4867 - val_accuracy: 0.7700\n",
            "Epoch 18/30\n",
            "25/25 - 0s - loss: 0.3869 - accuracy: 0.8487 - val_loss: 0.4798 - val_accuracy: 0.7750\n",
            "Epoch 19/30\n",
            "25/25 - 0s - loss: 0.3690 - accuracy: 0.8475 - val_loss: 0.4760 - val_accuracy: 0.7750\n",
            "Epoch 20/30\n",
            "25/25 - 0s - loss: 0.3559 - accuracy: 0.8500 - val_loss: 0.4821 - val_accuracy: 0.7800\n",
            "Epoch 21/30\n",
            "25/25 - 0s - loss: 0.3467 - accuracy: 0.8637 - val_loss: 0.4701 - val_accuracy: 0.7700\n",
            "Epoch 22/30\n",
            "25/25 - 0s - loss: 0.3351 - accuracy: 0.8625 - val_loss: 0.4713 - val_accuracy: 0.7650\n",
            "Epoch 23/30\n",
            "25/25 - 0s - loss: 0.3335 - accuracy: 0.8512 - val_loss: 0.4686 - val_accuracy: 0.7600\n",
            "Epoch 24/30\n",
            "25/25 - 0s - loss: 0.3208 - accuracy: 0.8612 - val_loss: 0.4706 - val_accuracy: 0.7750\n",
            "Epoch 25/30\n",
            "25/25 - 0s - loss: 0.3133 - accuracy: 0.8650 - val_loss: 0.4726 - val_accuracy: 0.7650\n",
            "Epoch 26/30\n",
            "25/25 - 0s - loss: 0.3051 - accuracy: 0.8650 - val_loss: 0.4740 - val_accuracy: 0.7800\n",
            "Epoch 27/30\n",
            "25/25 - 0s - loss: 0.3009 - accuracy: 0.8687 - val_loss: 0.4761 - val_accuracy: 0.7950\n",
            "Epoch 28/30\n",
            "25/25 - 0s - loss: 0.2958 - accuracy: 0.8700 - val_loss: 0.4819 - val_accuracy: 0.8050\n",
            "Epoch 29/30\n",
            "25/25 - 0s - loss: 0.2940 - accuracy: 0.8700 - val_loss: 0.4738 - val_accuracy: 0.7700\n",
            "Epoch 30/30\n",
            "25/25 - 0s - loss: 0.2866 - accuracy: 0.8725 - val_loss: 0.4803 - val_accuracy: 0.7800\n"
          ],
          "name": "stdout"
        }
      ]
    }
  ]
}